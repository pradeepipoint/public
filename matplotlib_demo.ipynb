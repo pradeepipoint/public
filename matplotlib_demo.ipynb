{
  "nbformat": 4,
  "nbformat_minor": 0,
  "metadata": {
    "kernelspec": {
      "display_name": "Python 3",
      "language": "python",
      "name": "python3"
    },
    "language_info": {
      "codemirror_mode": {
        "name": "ipython",
        "version": 3
      },
      "file_extension": ".py",
      "mimetype": "text/x-python",
      "name": "python",
      "nbconvert_exporter": "python",
      "pygments_lexer": "ipython3",
      "version": "3.8.5"
    },
    "colab": {
      "name": "matplotlib-demo.ipynb",
      "provenance": []
    }
  },
  "cells": [
    {
      "cell_type": "markdown",
      "metadata": {
        "id": "P0ThwhH9PcSv"
      },
      "source": [
        "# Demo example of Matplotlib library"
      ]
    },
    {
      "cell_type": "markdown",
      "metadata": {
        "id": "tQcVKxGnPcS4"
      },
      "source": [
        "## Import the required libraries"
      ]
    },
    {
      "cell_type": "code",
      "metadata": {
        "id": "m_HhssVePcS4"
      },
      "source": [
        "import matplotlib.pyplot as plt\n",
        "import numpy as np\n"
      ],
      "execution_count": 1,
      "outputs": []
    },
    {
      "cell_type": "markdown",
      "metadata": {
        "id": "2l9RomlHPcS5"
      },
      "source": [
        "### Demo example 1 - connecting two points"
      ]
    },
    {
      "cell_type": "code",
      "metadata": {
        "id": "ggeHj24XPcS5"
      },
      "source": [
        "xval = np.array([0,8])\n",
        "yval = np.array([0,100])\n",
        "plt.plot(xval,yval)\n",
        "plt.show()"
      ],
      "execution_count": null,
      "outputs": []
    },
    {
      "cell_type": "markdown",
      "metadata": {
        "id": "3xY8SeFYPcS6"
      },
      "source": [
        "### Demo example 2 - connecting three points"
      ]
    },
    {
      "cell_type": "code",
      "metadata": {
        "id": "1gPROyy7PcS6"
      },
      "source": [
        "xval = np.array([0,4,8])\n",
        "yval = np.array([0,25,100])\n",
        "plt.plot(xval,yval)\n",
        "plt.show()\n"
      ],
      "execution_count": null,
      "outputs": []
    }
  ]
}